{
  "nbformat": 4,
  "nbformat_minor": 0,
  "metadata": {
    "colab": {
      "name": "Untitled1.ipynb",
      "provenance": []
    },
    "kernelspec": {
      "name": "python3",
      "display_name": "Python 3"
    },
    "language_info": {
      "name": "python"
    }
  },
  "cells": [
    {
      "cell_type": "code",
      "execution_count": null,
      "metadata": {
        "id": "AmNG9XoU_jpZ"
      },
      "outputs": [],
      "source": [
        "Задание 1\n",
        "Допишите функцию, которая принимает 2 числа, сравнивает между собой и возвращает наименьшее.\n",
        "\n",
        "num1 = input('Число 1')\n",
        "num2 = input('Число 2')\n",
        "if num1 > num2:\n",
        "  print(num2)\n",
        "elif num2 > num1:\n",
        "    print(num1)\n",
        "Число 18\n",
        "Число 29\n",
        "8\n",
        "Задание 2\n",
        "Допишите функцию, которая принимает 3 числа, сравнивает между собой и возвращает наименьшее.\n",
        "\n",
        "num1 = input('Число 1')\n",
        "num2 = input('Число 2')\n",
        "num3 = input('Число 3')\n",
        "if num1>num2>num3:\n",
        "  print(num3)\n",
        "elif num1>num3>num2:\n",
        "  print(num2)\n",
        "elif num3>num2>num1:\n",
        "  print(num1)\n",
        "elif num2>num1>num3:\n",
        "  print(num3)\n",
        "elif num2>num3>num1:\n",
        "  print(num1)\n",
        "elif num3>num1>num2:\n",
        "  print(num2)\n",
        "Число 19\n",
        "Число 21\n",
        "Число 34\n",
        "1\n",
        "Задание 2\n",
        "Допишите функцию, которая принимает 3 числа, сравнивает между собой и возвращает количество совпадающих чисел. Соответственно, программа может возвращать одно из трех чисел: 3 - если совпадают все, 2 - если совпадают 2 числа, 0 - если все числа различны.\n",
        "\n",
        "num1 = input('Число 1')\n",
        "num2 = input('Число 2')\n",
        "num3 = input('Число 3')\n",
        "if num1==num2==num3:\n",
        "  print(3)\n",
        "elif num1==num2 or num1==num3 or num2==num3:\n",
        "  print(2)\n",
        "elif num1!=num2!=num3:\n",
        "  print(0)\n",
        "Число 15\n",
        "Число 25\n",
        "Число 35\n",
        "3"
      ]
    }
  ]
}