{
  "nbformat": 4,
  "nbformat_minor": 0,
  "metadata": {
    "colab": {
      "name": "Untitled3.ipynb",
      "provenance": []
    },
    "kernelspec": {
      "name": "python3",
      "display_name": "Python 3"
    },
    "language_info": {
      "name": "python"
    }
  },
  "cells": [
    {
      "cell_type": "code",
      "execution_count": null,
      "metadata": {
        "id": "5BfrwKa4Aa7C"
      },
      "outputs": [],
      "source": [
        "Дана строка: Lambdadambda\n",
        "\n",
        "Вывести третий символ этой строки.\n",
        "\n",
        "row = \"Lambdadambda\"\n",
        "print(row[2])\n",
        "m\n",
        "Вывести предпоследний символ этой строки.\n",
        "\n",
        "print(row[10])\n",
        "d\n",
        "Вывести первые пять символов этой строки.\n",
        "\n",
        "print(row[:5])\n",
        "Lambd\n",
        "Вывести строку, кроме последних двух символов.\n",
        "\n",
        "print(row[:10])\n",
        "Lambdadamb\n",
        "Вывести все символы с четными индексами (считайте, что 0 - четный индекс).\n",
        "\n",
        "n=len(row)\n",
        "for i in range(0,n-1,2):\n",
        "  print(row[i], end='')\n",
        "Lmddmd\n",
        "Вывести все символы с нечетными индексами.\n",
        "\n",
        "n=len(row)\n",
        "for i in range(1,n-1,2):\n",
        " print(row[i], end='')\n",
        "abaab\n",
        "Вывести все символы в обратном порядке.\n",
        "\n",
        "for i in reversed(row):\n",
        "  print(i, end='')\n",
        "adbmadadbmaL\n",
        " \n",
        "Вывести все символы строки через один в обратном порядке, начиная с последнего.\n",
        "\n",
        "print(row[::-2])\n",
        "abaaba\n",
        "Вывести длину данной строки.\n",
        "\n",
        "print(len(row))\n",
        "12"
      ]
    }
  ]
}