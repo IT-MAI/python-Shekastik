{
  "nbformat": 4,
  "nbformat_minor": 0,
  "metadata": {
    "colab": {
      "name": "Untitled0.ipynb",
      "provenance": []
    },
    "kernelspec": {
      "name": "python3",
      "display_name": "Python 3"
    },
    "language_info": {
      "name": "python"
    }
  },
  "cells": [
    {
      "cell_type": "code",
      "execution_count": 1,
      "metadata": {
        "colab": {
          "base_uri": "https://localhost:8080/",
          "height": 130
        },
        "id": "TqYFey1D-iaH",
        "outputId": "e7f702e3-7f6d-4337-968d-3cda42dba4c3"
      },
      "outputs": [
        {
          "output_type": "error",
          "ename": "SyntaxError",
          "evalue": "ignored",
          "traceback": [
            "\u001b[0;36m  File \u001b[0;32m\"<ipython-input-1-784084a06df1>\"\u001b[0;36m, line \u001b[0;32m1\u001b[0m\n\u001b[0;31m    Самостоятельное задание\u001b[0m\n\u001b[0m                          ^\u001b[0m\n\u001b[0;31mSyntaxError\u001b[0m\u001b[0;31m:\u001b[0m invalid syntax\n"
          ]
        }
      ],
      "source": [
        "a = True\n",
        "\n",
        "b = False\n",
        "\n",
        "a and b\n",
        "\n",
        "(a and b) or b\n",
        "\n",
        "(a and b) or not (a and b)\n",
        "\n",
        "a and b or not (a or b) or b\n",
        "\n",
        "b and b or not a and (a or b or a) or not (a or b)\n",
        "\n",
        "1 << 2\n",
        "\n",
        "1 & 0 | 1 >> 1\n",
        "\n",
        "1 & 0 | 1 >> 0\n",
        "\n"
      ]
    }
  ]
}