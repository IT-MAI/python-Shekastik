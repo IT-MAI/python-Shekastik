{
  "nbformat": 4,
  "nbformat_minor": 0,
  "metadata": {
    "colab": {
      "name": "Untitled4.ipynb",
      "provenance": []
    },
    "kernelspec": {
      "name": "python3",
      "display_name": "Python 3"
    },
    "language_info": {
      "name": "python"
    }
  },
  "cells": [
    {
      "cell_type": "code",
      "execution_count": null,
      "metadata": {
        "id": "4OhU0kuyA4m5"
      },
      "outputs": [],
      "source": [
        "Задание 1\n",
        "Допишите функцию, которая принимает список, выбирает из него все элементы с четным индексом и возвращает их в виде списка.\n",
        "\n",
        "a=input().split()\n",
        "print(a[::2])\n",
        "5 7 9 8 4 6 2\n",
        "['5', '9', '4', '2']\n",
        "Задание 2\n",
        "Допишите функцию, которая принимает список, выбирает из него все элементы, которые больше предыдущего и возвращает их в виде списка.\n",
        "\n",
        "a=input().split()\n",
        "n=len(a)\n",
        "for i in range(0,n):\n",
        "  if a[i] > a[i-1]:\n",
        "    print(a[i], end=' ')\n",
        "5 4 8 9 2 4 9 3\n",
        "5 8 9 4 9 \n",
        "Задание 3\n",
        "Допишите функцию, которая принимает список, меняет местами наибольший и наименьший элементы и возвращает этот список.\n",
        "\n",
        "a = input().split()\n",
        "n=len(a)\n",
        "i_min=0\n",
        "i_max = 0\n",
        "for i in range(1, n):\n",
        "    if a[i] > a[i_max]:\n",
        "        i_max = i\n",
        "    if a[i] < a[i_min]:\n",
        "        i_min = i\n",
        "a[i_min], a[i_max] = a[i_max], a[i_min]\n",
        "print(' '.join([str(i) for i in a]))\n",
        "5 7 9\n",
        "9 7 5"
      ]
    }
  ]
}